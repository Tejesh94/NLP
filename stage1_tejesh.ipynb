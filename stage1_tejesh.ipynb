{
 "cells": [
  {
   "cell_type": "markdown",
   "metadata": {},
   "source": [
    "# Accelerating Cleantech Advancements through NLP-Powered Text Mining and Knowledge Extraction\n",
    "\n",
    "***Team: Rebecca Gergess, Tejesh Reddy Koki, Sasa Ljubisavlijevic***"
   ]
  },
  {
   "cell_type": "markdown",
   "metadata": {},
   "source": [
    "## Stage 1: Data Cleaning and Preprocessing and EDA"
   ]
  },
  {
   "cell_type": "code",
   "execution_count": 34,
   "metadata": {},
   "outputs": [],
   "source": [
    "#Loading Packages\n",
    "import pandas as pd\n",
    "import re\n",
    "import string"
   ]
  },
  {
   "cell_type": "markdown",
   "metadata": {},
   "source": [
    "Data Collection and Cleaning.\n",
    "\n",
    "o Acquire a comprehensive dataset of cleantech texts.\n",
    "\n",
    "o Perform data cleaning to remove irrelevant information, special characters, and duplicates."
   ]
  },
  {
   "cell_type": "code",
   "execution_count": 45,
   "metadata": {},
   "outputs": [
    {
     "name": "stdout",
     "output_type": "stream",
     "text": [
      "c:\\Users\\kokit\\OneDrive - Hochschule Luzern\\Study Docuemnts\\Semester-4\\CLT\\Project\\NLP\n"
     ]
    },
    {
     "data": {
      "text/plain": [
       "WindowsPath('dataset/cleantech_media_dataset_v1_20231109.csv')"
      ]
     },
     "execution_count": 45,
     "metadata": {},
     "output_type": "execute_result"
    }
   ],
   "source": [
    "# Setting the path and Loading the data from csv file\n",
    "from pathlib import Path\n",
    "print(Path.cwd())\n",
    "\n",
    "data_folder = Path(\"dataset/cleantech_media_dataset_v1_20231109.csv\")\n",
    "data_folder\n"
   ]
  },
  {
   "cell_type": "code",
   "execution_count": 46,
   "metadata": {},
   "outputs": [
    {
     "data": {
      "text/html": [
       "<div>\n",
       "<style scoped>\n",
       "    .dataframe tbody tr th:only-of-type {\n",
       "        vertical-align: middle;\n",
       "    }\n",
       "\n",
       "    .dataframe tbody tr th {\n",
       "        vertical-align: top;\n",
       "    }\n",
       "\n",
       "    .dataframe thead th {\n",
       "        text-align: right;\n",
       "    }\n",
       "</style>\n",
       "<table border=\"1\" class=\"dataframe\">\n",
       "  <thead>\n",
       "    <tr style=\"text-align: right;\">\n",
       "      <th></th>\n",
       "      <th>Unnamed: 0</th>\n",
       "      <th>title</th>\n",
       "      <th>date</th>\n",
       "      <th>author</th>\n",
       "      <th>content</th>\n",
       "      <th>domain</th>\n",
       "      <th>url</th>\n",
       "    </tr>\n",
       "  </thead>\n",
       "  <tbody>\n",
       "    <tr>\n",
       "      <th>0</th>\n",
       "      <td>1280</td>\n",
       "      <td>Qatar to Slash Emissions as LNG Expansion Adva...</td>\n",
       "      <td>2021-01-13</td>\n",
       "      <td>NaN</td>\n",
       "      <td>[\"Qatar Petroleum ( QP) is targeting aggressiv...</td>\n",
       "      <td>energyintel</td>\n",
       "      <td>https://www.energyintel.com/0000017b-a7dc-de4c...</td>\n",
       "    </tr>\n",
       "    <tr>\n",
       "      <th>1</th>\n",
       "      <td>1281</td>\n",
       "      <td>India Launches Its First 700 MW PHWR</td>\n",
       "      <td>2021-01-15</td>\n",
       "      <td>NaN</td>\n",
       "      <td>[\"• Nuclear Power Corp. of India Ltd. ( NPCIL)...</td>\n",
       "      <td>energyintel</td>\n",
       "      <td>https://www.energyintel.com/0000017b-a7dc-de4c...</td>\n",
       "    </tr>\n",
       "    <tr>\n",
       "      <th>2</th>\n",
       "      <td>1283</td>\n",
       "      <td>New Chapter for US-China Energy Trade</td>\n",
       "      <td>2021-01-20</td>\n",
       "      <td>NaN</td>\n",
       "      <td>[\"New US President Joe Biden took office this ...</td>\n",
       "      <td>energyintel</td>\n",
       "      <td>https://www.energyintel.com/0000017b-a7dc-de4c...</td>\n",
       "    </tr>\n",
       "    <tr>\n",
       "      <th>3</th>\n",
       "      <td>1284</td>\n",
       "      <td>Japan: Slow Restarts Cast Doubt on 2030 Energy...</td>\n",
       "      <td>2021-01-22</td>\n",
       "      <td>NaN</td>\n",
       "      <td>[\"The slow pace of Japanese reactor restarts c...</td>\n",
       "      <td>energyintel</td>\n",
       "      <td>https://www.energyintel.com/0000017b-a7dc-de4c...</td>\n",
       "    </tr>\n",
       "    <tr>\n",
       "      <th>4</th>\n",
       "      <td>1285</td>\n",
       "      <td>NYC Pension Funds to Divest Fossil Fuel Shares</td>\n",
       "      <td>2021-01-25</td>\n",
       "      <td>NaN</td>\n",
       "      <td>[\"Two of New York City's largest pension funds...</td>\n",
       "      <td>energyintel</td>\n",
       "      <td>https://www.energyintel.com/0000017b-a7dc-de4c...</td>\n",
       "    </tr>\n",
       "    <tr>\n",
       "      <th>...</th>\n",
       "      <td>...</td>\n",
       "      <td>...</td>\n",
       "      <td>...</td>\n",
       "      <td>...</td>\n",
       "      <td>...</td>\n",
       "      <td>...</td>\n",
       "      <td>...</td>\n",
       "    </tr>\n",
       "    <tr>\n",
       "      <th>9602</th>\n",
       "      <td>82339</td>\n",
       "      <td>Strata Clean Energy Nets $ 300 Million in Fund...</td>\n",
       "      <td>2023-11-06</td>\n",
       "      <td>NaN</td>\n",
       "      <td>['Strata Clean Energy has closed a $ 300 milli...</td>\n",
       "      <td>solarindustrymag</td>\n",
       "      <td>https://solarindustrymag.com/strata-clean-ener...</td>\n",
       "    </tr>\n",
       "    <tr>\n",
       "      <th>9603</th>\n",
       "      <td>82340</td>\n",
       "      <td>Orsted Deploying SparkCognition Renewable Suit...</td>\n",
       "      <td>2023-11-07</td>\n",
       "      <td>NaN</td>\n",
       "      <td>['Global renewable energy developer Ørsted is ...</td>\n",
       "      <td>solarindustrymag</td>\n",
       "      <td>https://solarindustrymag.com/orsted-deploying-...</td>\n",
       "    </tr>\n",
       "    <tr>\n",
       "      <th>9604</th>\n",
       "      <td>82341</td>\n",
       "      <td>Veolia Has Plans for 5 MW of Solar in Arkansas</td>\n",
       "      <td>2023-11-07</td>\n",
       "      <td>NaN</td>\n",
       "      <td>['Veolia North America, a provider of environm...</td>\n",
       "      <td>solarindustrymag</td>\n",
       "      <td>https://solarindustrymag.com/veolia-has-plans-...</td>\n",
       "    </tr>\n",
       "    <tr>\n",
       "      <th>9605</th>\n",
       "      <td>82342</td>\n",
       "      <td>SunEdison: Too Big, Too Fast?</td>\n",
       "      <td>2023-11-08</td>\n",
       "      <td>NaN</td>\n",
       "      <td>['Once the self-proclaimed “ leading renewable...</td>\n",
       "      <td>solarindustrymag</td>\n",
       "      <td>http://www.solarindustrymag.com/online/issues/...</td>\n",
       "    </tr>\n",
       "    <tr>\n",
       "      <th>9606</th>\n",
       "      <td>82343</td>\n",
       "      <td>Vikings Solar-Plus-Storage Development Nets Fi...</td>\n",
       "      <td>2023-11-08</td>\n",
       "      <td>NaN</td>\n",
       "      <td>['Arevon Energy Inc. has closed financing on t...</td>\n",
       "      <td>solarindustrymag</td>\n",
       "      <td>https://solarindustrymag.com/vikings-solar-plu...</td>\n",
       "    </tr>\n",
       "  </tbody>\n",
       "</table>\n",
       "<p>9607 rows × 7 columns</p>\n",
       "</div>"
      ],
      "text/plain": [
       "      Unnamed: 0                                              title  \\\n",
       "0           1280  Qatar to Slash Emissions as LNG Expansion Adva...   \n",
       "1           1281               India Launches Its First 700 MW PHWR   \n",
       "2           1283              New Chapter for US-China Energy Trade   \n",
       "3           1284  Japan: Slow Restarts Cast Doubt on 2030 Energy...   \n",
       "4           1285     NYC Pension Funds to Divest Fossil Fuel Shares   \n",
       "...          ...                                                ...   \n",
       "9602       82339  Strata Clean Energy Nets $ 300 Million in Fund...   \n",
       "9603       82340  Orsted Deploying SparkCognition Renewable Suit...   \n",
       "9604       82341     Veolia Has Plans for 5 MW of Solar in Arkansas   \n",
       "9605       82342                      SunEdison: Too Big, Too Fast?   \n",
       "9606       82343  Vikings Solar-Plus-Storage Development Nets Fi...   \n",
       "\n",
       "            date author                                            content  \\\n",
       "0     2021-01-13    NaN  [\"Qatar Petroleum ( QP) is targeting aggressiv...   \n",
       "1     2021-01-15    NaN  [\"• Nuclear Power Corp. of India Ltd. ( NPCIL)...   \n",
       "2     2021-01-20    NaN  [\"New US President Joe Biden took office this ...   \n",
       "3     2021-01-22    NaN  [\"The slow pace of Japanese reactor restarts c...   \n",
       "4     2021-01-25    NaN  [\"Two of New York City's largest pension funds...   \n",
       "...          ...    ...                                                ...   \n",
       "9602  2023-11-06    NaN  ['Strata Clean Energy has closed a $ 300 milli...   \n",
       "9603  2023-11-07    NaN  ['Global renewable energy developer Ørsted is ...   \n",
       "9604  2023-11-07    NaN  ['Veolia North America, a provider of environm...   \n",
       "9605  2023-11-08    NaN  ['Once the self-proclaimed “ leading renewable...   \n",
       "9606  2023-11-08    NaN  ['Arevon Energy Inc. has closed financing on t...   \n",
       "\n",
       "                domain                                                url  \n",
       "0          energyintel  https://www.energyintel.com/0000017b-a7dc-de4c...  \n",
       "1          energyintel  https://www.energyintel.com/0000017b-a7dc-de4c...  \n",
       "2          energyintel  https://www.energyintel.com/0000017b-a7dc-de4c...  \n",
       "3          energyintel  https://www.energyintel.com/0000017b-a7dc-de4c...  \n",
       "4          energyintel  https://www.energyintel.com/0000017b-a7dc-de4c...  \n",
       "...                ...                                                ...  \n",
       "9602  solarindustrymag  https://solarindustrymag.com/strata-clean-ener...  \n",
       "9603  solarindustrymag  https://solarindustrymag.com/orsted-deploying-...  \n",
       "9604  solarindustrymag  https://solarindustrymag.com/veolia-has-plans-...  \n",
       "9605  solarindustrymag  http://www.solarindustrymag.com/online/issues/...  \n",
       "9606  solarindustrymag  https://solarindustrymag.com/vikings-solar-plu...  \n",
       "\n",
       "[9607 rows x 7 columns]"
      ]
     },
     "execution_count": 46,
     "metadata": {},
     "output_type": "execute_result"
    }
   ],
   "source": [
    "#Opening the kaggle dt file and assigning it to a variable\n",
    "data = pd.read_csv(data_folder)\n",
    "data"
   ]
  },
  {
   "cell_type": "markdown",
   "metadata": {},
   "source": [
    "We can see that the first column has no heading and the number seems unique for each row of data. We can assume this as its id. Secondly, in the column content we can see there are square brackets and double inverted commas, so cleaning would be required here."
   ]
  },
  {
   "cell_type": "code",
   "execution_count": 47,
   "metadata": {},
   "outputs": [
    {
     "name": "stdout",
     "output_type": "stream",
     "text": [
      "     ID                                              title        date author  \\\n",
      "0  1280  Qatar to Slash Emissions as LNG Expansion Adva...  2021-01-13    NaN   \n",
      "1  1281               India Launches Its First 700 MW PHWR  2021-01-15    NaN   \n",
      "\n",
      "                                             content       domain  \\\n",
      "0  [\"Qatar Petroleum ( QP) is targeting aggressiv...  energyintel   \n",
      "1  [\"• Nuclear Power Corp. of India Ltd. ( NPCIL)...  energyintel   \n",
      "\n",
      "                                                 url  \n",
      "0  https://www.energyintel.com/0000017b-a7dc-de4c...  \n",
      "1  https://www.energyintel.com/0000017b-a7dc-de4c...  \n"
     ]
    }
   ],
   "source": [
    "data.columns.values[0] = 'ID'\n",
    "print(data[:2])"
   ]
  },
  {
   "cell_type": "code",
   "execution_count": 48,
   "metadata": {},
   "outputs": [
    {
     "name": "stdout",
     "output_type": "stream",
     "text": [
      "     ID                                              title        date author  \\\n",
      "0  1280  Qatar to Slash Emissions as LNG Expansion Adva...  2021-01-13    NaN   \n",
      "1  1281               India Launches Its First 700 MW PHWR  2021-01-15    NaN   \n",
      "\n",
      "                                             content       domain  \\\n",
      "0  Qatar Petroleum  QP is targeting aggressive cu...  energyintel   \n",
      "1  • Nuclear Power Corp of India Ltd  NPCIL synch...  energyintel   \n",
      "\n",
      "                                                 url  \n",
      "0  https://www.energyintel.com/0000017b-a7dc-de4c...  \n",
      "1  https://www.energyintel.com/0000017b-a7dc-de4c...  \n"
     ]
    }
   ],
   "source": [
    "# Remove the [] and \"\" from the content field\n",
    "def remove_punctuation(text):\n",
    "    regex = re.compile ('[%s]' %re.escape(string.punctuation))\n",
    "    return regex.sub('', str(text))\n",
    "\n",
    "data['content'] = data['content'].apply(remove_punctuation)\n",
    "\n",
    "print(data[:2])"
   ]
  },
  {
   "cell_type": "code",
   "execution_count": 49,
   "metadata": {},
   "outputs": [
    {
     "name": "stdout",
     "output_type": "stream",
     "text": [
      "9576\n",
      "\n",
      "The 'author' column has values other than NaN.\n"
     ]
    }
   ],
   "source": [
    "#checking if the author column has any other data expect NaN\n",
    "\n",
    "has_non_nan_values = pd.notna(data['author']).any()\n",
    "nan_count = data['author'].isna().sum()\n",
    "print(nan_count)\n",
    "\n",
    "# Print the result\n",
    "if has_non_nan_values:\n",
    "    print(\"\\nThe 'author' column has values other than NaN.\")\n",
    "else:\n",
    "    print(\"\\nThe 'author' column only contains NaN values.\")"
   ]
  },
  {
   "cell_type": "markdown",
   "metadata": {},
   "source": [
    "In total of 9607 rows, 9676 rows contain no author name. So author is not impacting much of our results if we drop and any way the main topic for our case analysis is Content. Keeping this in mind, dropping url, author."
   ]
  },
  {
   "cell_type": "code",
   "execution_count": 50,
   "metadata": {},
   "outputs": [
    {
     "data": {
      "text/plain": [
       "'Qatar Petroleum  QP is targeting aggressive cuts in its greenhouse gas emissions as it prepares to launch Phase 2 of its planned 48 million ton per year LNG expansion In its latest Sustainability Report published on Wednesday QP said its goals include  reducing the emissions intensity of Qatars LNG facilities by 25 and of its upstream facilities by at least 15  The company is also aiming to reduce gas flaring intensity across its upstream facilities by more than 75 and has raised its carbon capture and storage ambitions from 5 million tonsyr to 7 million tonsyr by 2027 About 22 million tonsyr of the carbon capture goal will come from the 32 million tonyr Phase 1 of the LNG expansion also known as the North Field East project A further 11 million tonsyr will come from Phase 2 known as the North Field South project which will raise Qatars LNG capacity by a further 16 million tonsyr Qatar currently has an LNG production capacity of around 78 million tonsyr and is eyeing a phased expansion to 126 million tonsyr QP says it should be able to eliminate routine gas flaring by 2030 with methane emissions limited  by setting a methane intensity target of 02 across all facilities by 2025  The company also plans to build some 16 gigawatts of solar energy capacity by 2025 half of which should come from the Siraj solar power project next year  EIF Jan2220 Until this month there had been little news about Phase 2 of Qatars massive LNG expansion But McDermott International said last week that it had been awarded the frontend engineering and design contract for five offshore wellhead platforms  LNGI Jan1221 Bids for construction of all four trains for Phase 1 of the LNG expansion were submitted in September  LNGI Sep1520 But QP judged them to be too expensive and none met its targeted 50week construction schedule Shortlisted contractors were asked to look for cost savings and submit new bids The contract which consultancy Rystad estimates to be worth around  35 billion is expected to be awarded by Mar 31 Shortly after the construction contract is awarded QP is expected to select foreign investments partners to take stakes of up to 30 in the Phase 1 trains Exxon Mobil Royal Dutch Shell Total Chevron ConocoPhillips and Eni have been shortlisted QP has repeatedly said that it is prepared to proceed without international investment partners if it determines that the offers it receives are not sufficiently attractive But the shortlisted companies are expected to bid aggressively for what is expected to be the worlds lowestcost and most environmentally friendly LNG  LNGI Nov920 Rafiq Latta Nicosia'"
      ]
     },
     "execution_count": 50,
     "metadata": {},
     "output_type": "execute_result"
    }
   ],
   "source": [
    "data['content'][0]"
   ]
  },
  {
   "cell_type": "code",
   "execution_count": 44,
   "metadata": {},
   "outputs": [
    {
     "name": "stdout",
     "output_type": "stream",
     "text": [
      "      ID                                              title        date  \\\n",
      "0    NaN  Qatar to Slash Emissions as LNG Expansion Adva...  2021-01-13   \n",
      "1    NaN               India Launches Its First 700 MW PHWR  2021-01-15   \n",
      "2    NaN              New Chapter for US-China Energy Trade  2021-01-20   \n",
      "3    NaN  Japan: Slow Restarts Cast Doubt on 2030 Energy...  2021-01-22   \n",
      "4    NaN     NYC Pension Funds to Divest Fossil Fuel Shares  2021-01-25   \n",
      "...   ..                                                ...         ...   \n",
      "9602 NaN  Strata Clean Energy Nets $ 300 Million in Fund...  2023-11-06   \n",
      "9603 NaN  Orsted Deploying SparkCognition Renewable Suit...  2023-11-07   \n",
      "9604 NaN     Veolia Has Plans for 5 MW of Solar in Arkansas  2023-11-07   \n",
      "9605 NaN                      SunEdison: Too Big, Too Fast?  2023-11-08   \n",
      "9606 NaN  Vikings Solar-Plus-Storage Development Nets Fi...  2023-11-08   \n",
      "\n",
      "                                                content            domain  \n",
      "0     Qatar Petroleum  QP is targeting aggressive cu...       energyintel  \n",
      "1     • Nuclear Power Corp of India Ltd  NPCIL synch...       energyintel  \n",
      "2     New US President Joe Biden took office this we...       energyintel  \n",
      "3     The slow pace of Japanese reactor restarts con...       energyintel  \n",
      "4     Two of New York Citys largest pension funds sa...       energyintel  \n",
      "...                                                 ...               ...  \n",
      "9602  Strata Clean Energy has closed a  300 million ...  solarindustrymag  \n",
      "9603  Global renewable energy developer Ørsted is de...  solarindustrymag  \n",
      "9604  Veolia North America a provider of environment...  solarindustrymag  \n",
      "9605  Once the selfproclaimed “ leading renewable po...  solarindustrymag  \n",
      "9606  Arevon Energy Inc has closed financing on the ...  solarindustrymag  \n",
      "\n",
      "[9607 rows x 5 columns]\n"
     ]
    }
   ],
   "source": []
  }
 ],
 "metadata": {
  "kernelspec": {
   "display_name": "Python 3",
   "language": "python",
   "name": "python3"
  },
  "language_info": {
   "codemirror_mode": {
    "name": "ipython",
    "version": 3
   },
   "file_extension": ".py",
   "mimetype": "text/x-python",
   "name": "python",
   "nbconvert_exporter": "python",
   "pygments_lexer": "ipython3",
   "version": "3.10.13"
  }
 },
 "nbformat": 4,
 "nbformat_minor": 2
}
